{
 "cells": [
  {
   "cell_type": "code",
   "execution_count": 1,
   "metadata": {
    "collapsed": true
   },
   "outputs": [],
   "source": [
    "%matplotlib inline\n",
    "\n",
    "import pandas as pd\n",
    "import numpy as np\n",
    "import matplotlib.pyplot as plt"
   ]
  },
  {
   "cell_type": "code",
   "execution_count": 86,
   "metadata": {
    "collapsed": false
   },
   "outputs": [
    {
     "name": "stdout",
     "output_type": "stream",
     "text": [
      "0      NDF\n",
      "1      NDF\n",
      "2       US\n",
      "3    other\n",
      "4       US\n",
      "Name: country_destination, dtype: object\n",
      "           id date_account_created  timestamp_first_active date_first_booking  \\\n",
      "0  gxn3p5htnn           2010-06-28          20090319043255                NaN   \n",
      "1  820tgsjxq7           2011-05-25          20090523174809                NaN   \n",
      "2  4ft3gnwmtx           2010-09-28          20090609231247         2010-08-02   \n",
      "3  bjjt8pjhuk           2011-12-05          20091031060129         2012-09-08   \n",
      "4  87mebub9p4           2010-09-14          20091208061105         2010-02-18   \n",
      "\n",
      "      gender  age signup_method  signup_flow language affiliate_channel  \\\n",
      "0  -unknown-  NaN      facebook            0       en            direct   \n",
      "1       MALE   38      facebook            0       en               seo   \n",
      "2     FEMALE   56         basic            3       en            direct   \n",
      "3     FEMALE   42      facebook            0       en            direct   \n",
      "4  -unknown-   41         basic            0       en            direct   \n",
      "\n",
      "  affiliate_provider first_affiliate_tracked signup_app first_device_type  \\\n",
      "0             direct               untracked        Web       Mac Desktop   \n",
      "1             google               untracked        Web       Mac Desktop   \n",
      "2             direct               untracked        Web   Windows Desktop   \n",
      "3             direct               untracked        Web       Mac Desktop   \n",
      "4             direct               untracked        Web       Mac Desktop   \n",
      "\n",
      "  first_browser  \n",
      "0        Chrome  \n",
      "1        Chrome  \n",
      "2            IE  \n",
      "3       Firefox  \n",
      "4        Chrome  \n"
     ]
    }
   ],
   "source": [
    "# Read the train and the test data \n",
    "train_users_orig = pd.read_csv('train_users_2.csv')\n",
    "test_users = pd.read_csv('test_users.csv')\n",
    "\n",
    "\n",
    "# Extracting labels from the train data\n",
    "train_users_labels = train_users_orig.loc[:,'country_destination']\n",
    "print (train_users_labels.head(n=5))\n",
    "\n",
    "# Extracting attributes from the train data\n",
    "train_users_attrs = train_users_orig.iloc[:,0:15]\n",
    "print(train_users_attrs.head(n=5))\n",
    "\n",
    "train_users = train_users_attrs"
   ]
  },
  {
   "cell_type": "code",
   "execution_count": 87,
   "metadata": {
    "collapsed": true
   },
   "outputs": [],
   "source": [
    "train_users = train_users.drop(['date_first_booking'], axis=1)\n",
    "test_users = test_users.drop(['date_first_booking'], axis=1)"
   ]
  },
  {
   "cell_type": "code",
   "execution_count": 88,
   "metadata": {
    "collapsed": true
   },
   "outputs": [],
   "source": [
    "# Date is split into 3 parts as year, month and day in both test and train. These are added as\n",
    "# new features in both test and train\n",
    "\n",
    "date_acc_created = np.vstack(train_users.date_account_created.astype(str).apply(\n",
    "        lambda x: list(map(int, x.split('-')))).values)\n",
    "train_users['created_year'] = date_acc_created[:,0]\n",
    "train_users['created_month'] = date_acc_created[:,1]\n",
    "train_users['created_day'] = date_acc_created[:,2]\n",
    "train_users = train_users.drop(['date_account_created'], axis=1)\n",
    "\n",
    "date_acc_created_test = np.vstack(test_users.date_account_created.astype(str).apply(\n",
    "        lambda x: list(map(int, x.split('-')))).values)\n",
    "test_users['created_year'] = date_acc_created_test[:,0]\n",
    "test_users['created_month'] = date_acc_created_test[:,1]\n",
    "test_users['created_day'] = date_acc_created_test[:,2]\n",
    "test_users = test_users.drop(['date_account_created'], axis=1)"
   ]
  },
  {
   "cell_type": "code",
   "execution_count": 90,
   "metadata": {
    "collapsed": false
   },
   "outputs": [
    {
     "data": {
      "image/png": "[encoded data removed]",
      "text/plain": [
       "<matplotlib.figure.Figure at 0x21d6b3be2e8>"
      ]
     },
     "metadata": {},
     "output_type": "display_data"
    }
   ],
   "source": [
    "# There's more activity during the months 3-6\n",
    "import seaborn as sbrn\n",
    "sbrn.set_style(\"white\")\n",
    "sbrn.set_context(\"talk\", font_scale=1.1)\n",
    "#sbrn.set(color_codes=True)\n",
    "month_distr = train_users.created_month.value_counts()\n",
    "plt.xlabel('Month')\n",
    "plt.ylabel('Number of Bookings')\n",
    "month_distr.plot(kind='bar', color='#FFB6C1')\n",
    "sbrn.despine()"
   ]
  },
  {
   "cell_type": "code",
   "execution_count": 35,
   "metadata": {
    "collapsed": true
   },
   "outputs": [],
   "source": [
    "# Replacing unknown values in gender with -1 and null values with -1\n",
    "train_users.loc[ train_users['gender'] == '-unknown-', 'gender'] = -1\n",
    "train_users.loc[ train_users['gender'].isnull(), 'gender' ] = -1\n",
    "test_users.loc[ test_users['gender'] == '-unknown-', 'gender'] = -1\n",
    "test_users.loc[ test_users['gender'].isnull(), 'gender'] = -1"
   ]
  },
  {
   "cell_type": "code",
   "execution_count": 36,
   "metadata": {
    "collapsed": true
   },
   "outputs": [],
   "source": [
    "# Encoding Female with 0, Male with 1 and Other with 2 in both test and train data\n",
    "gender_translation = {'FEMALE' : 0,\n",
    "                     'MALE' : 1,\n",
    "                     'OTHER' : 2,\n",
    "                     -1 : -1 }\n",
    "for data in [train_users, test_users]:\n",
    "    data['gender'] = data['gender'].apply(lambda x: gender_translation[x])"
   ]
  },
  {
   "cell_type": "code",
   "execution_count": 37,
   "metadata": {
    "collapsed": false
   },
   "outputs": [
    {
     "name": "stdout",
     "output_type": "stream",
     "text": [
      "Existing gender value distribution\n",
      "0 : 0.5353209412124351\n",
      "1 : 0.46228441870536585\n",
      "2 : 0.002394640082198993\n"
     ]
    }
   ],
   "source": [
    "# Finding valid values for gender and invalid values for gender\n",
    "nan_gender_count = len(train_users.loc[train_users['gender'] == -1, 'gender'])\n",
    "valid_gender_count = len(train_users.gender.values) - nan_gender_count\n",
    "\n",
    "# Creating a map with the gender distribution\n",
    "count_map = pd.value_counts(train_users['gender'].values)\n",
    "print (\"Existing gender value distribution\")\n",
    "for k, v in count_map.iteritems():\n",
    "    if k == -1:\n",
    "        continue\n",
    "    print (k, \":\", float(v)/float(valid_gender_count))"
   ]
  },
  {
   "cell_type": "code",
   "execution_count": 38,
   "metadata": {
    "collapsed": false
   },
   "outputs": [],
   "source": [
    "# Making the gender distribution the same for missing imputation\n",
    "for k, v in count_map.iteritems():\n",
    "    if k == -1:\n",
    "        continue\n",
    "    c = int ( nan_gender_count * float(v)/float(valid_gender_count) )\n",
    "    for i in range(len(train_users.gender.values)):\n",
    "        if train_users.gender.values[i] == -1:\n",
    "            train_users.gender.values[i] = k\n",
    "            c -= 1\n",
    "        if c == 0:\n",
    "            break\n",
    "train_users.gender.values[213450] = 0"
   ]
  },
  {
   "cell_type": "code",
   "execution_count": 39,
   "metadata": {
    "collapsed": false
   },
   "outputs": [
    {
     "data": {
      "text/plain": [
       "count    213451.000000\n",
       "mean          0.467072\n",
       "std           0.503691\n",
       "min           0.000000\n",
       "25%           0.000000\n",
       "50%           0.000000\n",
       "75%           1.000000\n",
       "max           2.000000\n",
       "Name: gender, dtype: float64"
      ]
     },
     "execution_count": 39,
     "metadata": {},
     "output_type": "execute_result"
    }
   ],
   "source": [
    "train_users.gender.describe()"
   ]
  },
  {
   "cell_type": "code",
   "execution_count": 40,
   "metadata": {
    "collapsed": false
   },
   "outputs": [
    {
     "name": "stdout",
     "output_type": "stream",
     "text": [
      "Existing gender value distribution\n",
      "0 : 0.5116944601469757\n",
      "1 : 0.486468343697004\n",
      "2 : 0.0018371961560203504\n"
     ]
    }
   ],
   "source": [
    "nan_gender_count = len(test_users.loc[test_users['gender'] == -1, 'gender'])\n",
    "valid_gender_count = len(test_users.gender.values) - nan_gender_count\n",
    "count_map = pd.value_counts(test_users['gender'].values)\n",
    "print (\"Existing gender value distribution\")\n",
    "for k, v in count_map.iteritems():\n",
    "    if k == -1:\n",
    "        continue\n",
    "    print (k, \":\", float(v)/float(valid_gender_count))\n",
    "\n",
    "for k, v in count_map.iteritems():\n",
    "    if k == -1:\n",
    "        continue\n",
    "    c = int ( nan_gender_count * float(v)/float(valid_gender_count) )\n",
    "    for i in range(len(test_users.gender.values)):\n",
    "        if test_users.gender.values[i] == -1:\n",
    "            test_users.gender.values[i] = k\n",
    "            c -= 1\n",
    "        if c == 0:\n",
    "            break\n",
    "test_users.gender.values[62094] = 0"
   ]
  },
  {
   "cell_type": "code",
   "execution_count": 41,
   "metadata": {
    "collapsed": false
   },
   "outputs": [
    {
     "data": {
      "text/plain": [
       "count    125461.000000\n",
       "mean         49.668335\n",
       "std         155.666612\n",
       "min           1.000000\n",
       "25%          28.000000\n",
       "50%          34.000000\n",
       "75%          43.000000\n",
       "max        2014.000000\n",
       "Name: age, dtype: float64"
      ]
     },
     "execution_count": 41,
     "metadata": {},
     "output_type": "execute_result"
    }
   ],
   "source": [
    "train_users['age'].describe()"
   ]
  },
  {
   "cell_type": "code",
   "execution_count": 42,
   "metadata": {
    "collapsed": true
   },
   "outputs": [],
   "source": [
    "# Replacing invalid age with NaN in test and train\n",
    "\n",
    "train_users.loc[train_users['age'] > 95, 'age'] = np.nan\n",
    "train_users.loc[train_users['age'] < 16, 'age'] = np.nan\n",
    "test_users.loc[test_users['age'] > 95, 'age'] = np.nan\n",
    "test_users.loc[test_users['age'] < 16, 'age'] = np.nan"
   ]
  },
  {
   "cell_type": "code",
   "execution_count": 43,
   "metadata": {
    "collapsed": false
   },
   "outputs": [
    {
     "name": "stdout",
     "output_type": "stream",
     "text": [
      "36.514069844987716\n",
      "34.1409398015704\n"
     ]
    }
   ],
   "source": [
    "# Replace missing age with median\n",
    "print (train_users.age.mean())\n",
    "print (test_users.age.mean())\n",
    "train_users.loc[ train_users['age'].isnull(), 'age' ] = train_users.age.mean()\n",
    "test_users.loc[ test_users['age'].isnull(), 'age' ] = test_users.age.mean()"
   ]
  },
  {
   "cell_type": "code",
   "execution_count": 46,
   "metadata": {
    "collapsed": false
   },
   "outputs": [
    {
     "data": {
      "image/png": "[encoded data removed]",
      "text/plain": [
       "<matplotlib.figure.Figure at 0x21d66d04dd8>"
      ]
     },
     "metadata": {},
     "output_type": "display_data"
    }
   ],
   "source": [
    "# Uer Age looks cleaned up now\n",
    "sbrn.set_context(\"talk\", font_scale=1.1)\n",
    "sbrn.set_style(\"whitegrid\", {'axes.edgecolor': '0'})\n",
    "plt.title(\"User Age\")\n",
    "ax = sbrn.boxplot(x=train_users[\"age\"], color='#00e6e6')"
   ]
  },
  {
   "cell_type": "code",
   "execution_count": 47,
   "metadata": {
    "collapsed": false
   },
   "outputs": [],
   "source": [
    "# Encoding the signup method for test\n",
    "signup_translation = {'facebook' : 0,\n",
    "                     'google' : 1,\n",
    "                     'basic' : 2,\n",
    "                     'weibo' : 3}\n",
    "for data in [train_users, test_users]:\n",
    "    data['signup_method'] = data['signup_method'].apply(lambda x: signup_translation[x])"
   ]
  },
  {
   "cell_type": "code",
   "execution_count": 48,
   "metadata": {
    "collapsed": false
   },
   "outputs": [],
   "source": [
    "# Encoding the language in both train and test\n",
    "test_users.loc[ test_users['language'] == '-unknown-', 'language'] = \"en\""
   ]
  },
  {
   "cell_type": "code",
   "execution_count": 49,
   "metadata": {
    "collapsed": true
   },
   "outputs": [],
   "source": [
    "language_encoding = {'en'      :       1       ,\n",
    "'zh'      :       2       ,\n",
    "'fr'      :       3       ,\n",
    "'es'      :       4       ,\n",
    "'ko'      :       5       ,\n",
    "'de'      :       6       ,\n",
    "'it'      :       7       ,\n",
    "'ru'      :       8       ,\n",
    "'pt'      :       9       ,\n",
    "'ja'      :       10      ,\n",
    "'sv'      :       11      ,\n",
    "'nl'      :       12      ,\n",
    "'tr'      :       13      ,\n",
    "'da'      :       14      ,\n",
    "'pl'      :       15      ,\n",
    "'cs'      :       16      ,\n",
    "'no'      :       17      ,\n",
    "'el'      :       18      ,\n",
    "'th'      :       19      ,\n",
    "'id'      :       20      ,\n",
    "'hu'      :       21      ,\n",
    "'fi'      :       22      ,\n",
    "'ca'      :       23      ,\n",
    "'is'      :       24      ,\n",
    "'hr'      :       25}\n",
    "\n",
    "for data in [train_users, test_users]:\n",
    "    data['language'] = data['language'].apply(lambda x: language_encoding[x])\n"
   ]
  },
  {
   "cell_type": "code",
   "execution_count": 50,
   "metadata": {
    "collapsed": true
   },
   "outputs": [],
   "source": [
    "affiliate_channel_encoding = {'direct' : 1,\n",
    "                             'sem-brand' : 2,\n",
    "                             'sem-non-brand' : 3,\n",
    "                             'other' : 4,\n",
    "                             'api' : 5,\n",
    "                             'seo' : 6,\n",
    "                             'content' : 7,\n",
    "                             'remarketing' : 8}\n",
    "for data in [train_users, test_users]:\n",
    "    data['affiliate_channel'] = data['affiliate_channel'].apply(lambda x: affiliate_channel_encoding[x])"
   ]
  },
  {
   "cell_type": "code",
   "execution_count": 51,
   "metadata": {
    "collapsed": false
   },
   "outputs": [],
   "source": [
    "affiliate_provider_encoding = {'direct':1,\n",
    "'google':2,\n",
    "'other':3,\n",
    "'craigslist':4,\n",
    "'bing':5,\n",
    "'facebook':6,\n",
    "'vast':7,\n",
    "'padmapper':8,\n",
    "'facebook-open-graph':9,\n",
    "'yahoo':10,\n",
    "'gsp':11,\n",
    "'meetup':12,\n",
    "'email-marketing':13,\n",
    "'naver':14,\n",
    "'baidu':15,\n",
    "'yandex':16,\n",
    "'wayn':17,\n",
    "'daum':18}\n",
    "\n",
    "for data in [train_users, test_users]:\n",
    "    data['affiliate_provider'] = data['affiliate_provider'].apply(lambda x: affiliate_provider_encoding[x])\n"
   ]
  },
  {
   "cell_type": "code",
   "execution_count": 52,
   "metadata": {
    "collapsed": false
   },
   "outputs": [],
   "source": [
    "train_users.loc[ train_users['first_affiliate_tracked'].isnull(), 'first_affiliate_tracked'] = \"untracked\"\n",
    "test_users.loc[ test_users['first_affiliate_tracked'].isnull(), 'first_affiliate_tracked'] = \"untracked\"\n",
    "first_affiliate_tracked_encoding = {'untracked' : 1,\n",
    "                                   'linked' : 2,\n",
    "                                   'omg' : 3,\n",
    "                                   'tracked-other' : 4,\n",
    "                                   'product' : 5,\n",
    "                                   'marketing' : 6,\n",
    "                                   'local ops' : 7}\n",
    "for data in [train_users, test_users]:\n",
    "    data['first_affiliate_tracked'] = data['first_affiliate_tracked'].apply(lambda x: first_affiliate_tracked_encoding[x])\n"
   ]
  },
  {
   "cell_type": "code",
   "execution_count": 53,
   "metadata": {
    "collapsed": false
   },
   "outputs": [],
   "source": [
    "signup_app_encoding = {'Web' : 1,\n",
    "                      'iOS' : 2,\n",
    "                      'Android' : 3,\n",
    "                      'Moweb' : 4}\n",
    "for data in [train_users, test_users]:\n",
    "    data['signup_app'] = data['signup_app'].apply(lambda x: signup_app_encoding[x])\n"
   ]
  },
  {
   "cell_type": "code",
   "execution_count": 54,
   "metadata": {
    "collapsed": false
   },
   "outputs": [],
   "source": [
    "first_device_type_encoding = { 'Mac Desktop' : 1,\n",
    "                             'iPhone' : 2,\n",
    "                             'Windows Desktop' : 3,\n",
    "                             'Android Phone' : 4,\n",
    "                             'iPad' : 5,\n",
    "                             'Android Tablet' : 6,\n",
    "                             'Other/Unknown' : 7,\n",
    "                             'Desktop (Other)' : 8,\n",
    "                             'SmartPhone (Other)' : 9}\n",
    "for data in [train_users, test_users]:\n",
    "    data['first_device_type'] = data['first_device_type'].apply(lambda x: first_device_type_encoding[x])"
   ]
  },
  {
   "cell_type": "code",
   "execution_count": 55,
   "metadata": {
    "collapsed": false
   },
   "outputs": [],
   "source": [
    "first_browser_encoding = {'Chrome':1,\n",
    "'Safari':2,\n",
    "'Firefox':3,\n",
    "'-unknown-':4,\n",
    "'IE':5,\n",
    "'Mobile Safari':6,\n",
    "'Chrome Mobile':7,\n",
    "'Android Browser':8,\n",
    "'AOL Explorer':9,\n",
    "'Opera':10,\n",
    "'Silk':11,\n",
    "'Chromium':12,\n",
    "'BlackBerry Browser':13,\n",
    "'Maxthon':14,\n",
    "'IE Mobile':15,\n",
    "'Apple Mail':16,\n",
    "'Sogou Explorer':17,\n",
    "'Mobile Firefox':18,\n",
    "'RockMelt':19,\n",
    "'SiteKiosk':20,\n",
    "'Iron':21,\n",
    "'IceWeasel':22,\n",
    "'Pale Moon':23,\n",
    "'SeaMonkey':24,\n",
    "'Yandex.Browser':25,\n",
    "'CometBird':26,\n",
    "'Camino':27,\n",
    "'TenFourFox':28,\n",
    "'wOSBrowser':29,\n",
    "'CoolNovo':30,\n",
    "'Avant Browser':31,\n",
    "'Opera Mini':32,\n",
    "'Mozilla':33,\n",
    "'Comodo Dragon':34,\n",
    "'TheWorld Browser':35,\n",
    "'Crazy Browser':36,\n",
    "'Flock':37,\n",
    "'OmniWeb':38,\n",
    "'SlimBrowser':39,\n",
    "'Opera Mobile':40,\n",
    "'Conkeror':41,\n",
    "'Outlook 2007':42,\n",
    "'Palm Pre web browser':43,\n",
    "'Stainless':44,\n",
    "'NetNewsWire':45,\n",
    "'Kindle Browser':46,\n",
    "'Epic':47,\n",
    "'Googlebot':48,\n",
    "'Arora':49,\n",
    "'Google Earth':50,\n",
    "'IceDragon':51,\n",
    "'PS Vita browser':52,\n",
    "'IBrowse' : 53,\n",
    "'UC Browser' : 54,\n",
    "'IBrowse': 55,\n",
    "'Nintendo Browser' : 56}\n",
    "\n",
    "\n",
    "for data in [train_users, test_users]:\n",
    "    data['first_browser'] = data['first_browser'].apply(lambda x: first_browser_encoding[x])"
   ]
  },
  {
   "cell_type": "code",
   "execution_count": 59,
   "metadata": {
    "collapsed": true
   },
   "outputs": [],
   "source": [
    "sessions = pd.read_csv('sessions.csv')"
   ]
  },
  {
   "cell_type": "code",
   "execution_count": 60,
   "metadata": {
    "collapsed": false
   },
   "outputs": [
    {
     "name": "stdout",
     "output_type": "stream",
     "text": [
      "(135483,)\n",
      "mxqbh3ykxl    2722\n",
      "0hjoc5q8nf    2644\n",
      "mjbl6rrj52    2476\n",
      "l5lgm3w5pc    2424\n",
      "wg9413iaux    2362\n",
      "ht8alhs4lt    2335\n",
      "wyv1imf8qw    2323\n",
      "9z4gim1s4l    2264\n",
      "monrpvx2md    2264\n",
      "h0cjxc177k    2246\n",
      "a0uhiojrra    2137\n",
      "vcmr2jh5ix    2085\n",
      "1m6xnhstmb    2019\n",
      "p1183hxzc4    1938\n",
      "e8h4qghxlg    1923\n",
      "gey51ednme    1919\n",
      "5vpuk5mssg    1876\n",
      "j2cvctvqve    1861\n",
      "yu5bdalz2b    1811\n",
      "ejpe95pcyo    1797\n",
      "r541x78s24    1792\n",
      "qkbkunyzq7    1780\n",
      "n4s6g3grzf    1779\n",
      "bfiueza7rt    1753\n",
      "b1io359wpg    1752\n",
      "8ikl7vnfa3    1732\n",
      "e81qfos71y    1701\n",
      "s5ez13snz0    1685\n",
      "93dulcecw0    1614\n",
      "r0rgjqbsvp    1612\n",
      "              ... \n",
      "mec2cs3cra       1\n",
      "i49rsz60rq       1\n",
      "9k7bgqr6r9       1\n",
      "ik1wxk26wo       1\n",
      "zi2a11a999       1\n",
      "9w94dnnpsi       1\n",
      "yy92qrdvvu       1\n",
      "tse5tmsk5q       1\n",
      "ppeo5lb3y7       1\n",
      "mdorengqr2       1\n",
      "3z9sejcunx       1\n",
      "uq4k9syl5f       1\n",
      "fx1hmo045d       1\n",
      "258mc4j11s       1\n",
      "rboft8asrb       1\n",
      "nwdx03kjix       1\n",
      "8kfiy6ofhc       1\n",
      "jdsj3qiu7t       1\n",
      "hdlaamqy9v       1\n",
      "9bjx1squch       1\n",
      "a1ugu34vtv       1\n",
      "3sabrt1bpb       1\n",
      "s379kt1d8b       1\n",
      "b2r62sb14z       1\n",
      "kr7w7r0zz8       1\n",
      "xgw4llmaa4       1\n",
      "sb9qva09cc       1\n",
      "l1gawnkz69       1\n",
      "p4twjvqlt0       1\n",
      "f2zo8bwxsr       1\n",
      "Name: user_id, dtype: int64\n"
     ]
    }
   ],
   "source": [
    "# frequency of each user_id in sessions data\n",
    "df = sessions['user_id'].value_counts()\n",
    "print (df.shape)\n",
    "print (df)\n"
   ]
  },
  {
   "cell_type": "code",
   "execution_count": 62,
   "metadata": {
    "collapsed": false
   },
   "outputs": [],
   "source": [
    "session_count_df = sessions.groupby([\"user_id\"])[\"user_id\"].count().reset_index(name=\"session_count\")\n",
    "#print(session_count_df.sort('session_count'))"
   ]
  },
  {
   "cell_type": "code",
   "execution_count": 63,
   "metadata": {
    "collapsed": false
   },
   "outputs": [],
   "source": [
    "session_count_df=session_count_df.rename(columns = {'user_id':'id'})\n",
    "train_users= pd.merge(train_users, session_count_df, on='id', how='left')\n",
    "test_users = pd.merge(test_users, session_count_df, on='id', how='left')\n",
    "#print(test_data_2)"
   ]
  },
  {
   "cell_type": "code",
   "execution_count": 64,
   "metadata": {
    "collapsed": false
   },
   "outputs": [],
   "source": [
    "train_users['session_count'].fillna(0, inplace=True)\n",
    "test_users['session_count'].fillna(0, inplace=True)\n",
    "#print(train_data_2)"
   ]
  },
  {
   "cell_type": "code",
   "execution_count": 65,
   "metadata": {
    "collapsed": false
   },
   "outputs": [
    {
     "name": "stdout",
     "output_type": "stream",
     "text": [
      "(213451, 17)\n",
      "(62096, 17)\n"
     ]
    }
   ],
   "source": [
    "print(train_users.shape)\n",
    "print(test_users.shape)"
   ]
  },
  {
   "cell_type": "code",
   "execution_count": 66,
   "metadata": {
    "collapsed": true
   },
   "outputs": [],
   "source": [
    "train_user_wo_merge_wo_scale = train_users\n",
    "test_user_wo_merge_wo_scale = test_users\n",
    "\n",
    "#train_user_wo_merge_wo_scale.to_csv('train_users_wo_merge_wo_scale.csv',index=False)\n",
    "#test_user_wo_merge_wo_scale.to_csv('test_users_wo_merge_wo_scale.csv',index=False)"
   ]
  },
  {
   "cell_type": "code",
   "execution_count": 67,
   "metadata": {
    "collapsed": false
   },
   "outputs": [],
   "source": [
    "# Get the total amount of time spent by each user browsing/booking \n",
    "secs = sessions.groupby(['user_id'])['secs_elapsed'].sum().reset_index()\n",
    "secs.columns = ['user_id','secs_elapsed']\n",
    "\n",
    "#print(secs.shape)"
   ]
  },
  {
   "cell_type": "code",
   "execution_count": 68,
   "metadata": {
    "collapsed": true
   },
   "outputs": [],
   "source": [
    "# Of the statistics, action_type and device_type have smaller number of unique values. Use these two attributes to \n",
    "# generate more columns and flatten the data in sessions so that each user has one row\n",
    "\n",
    "# For each action_type (there are 10 of them, without NaN), make a column. Make each user_id the index. Fill in the values \n",
    "# of this dataframe with action value counts.\n",
    "\n",
    "ac_types = pd.pivot_table(sessions, index = ['user_id'],columns = ['action_type'],\n",
    "                             values = 'action',aggfunc=len,fill_value=0).reset_index()\n"
   ]
  },
  {
   "cell_type": "code",
   "execution_count": 69,
   "metadata": {
    "collapsed": true
   },
   "outputs": [],
   "source": [
    "# Similarly, for each device_type :\n",
    "\n",
    "dev_type = pd.pivot_table(sessions, index = ['user_id'],columns = ['device_type'],\n",
    "                          values = 'action',aggfunc=len,fill_value=0).reset_index()"
   ]
  },
  {
   "cell_type": "code",
   "execution_count": 70,
   "metadata": {
    "collapsed": false
   },
   "outputs": [
    {
     "name": "stdout",
     "output_type": "stream",
     "text": [
      "(213451, 17)\n",
      "(62096, 17)\n",
      "(213451, 42)\n",
      "(62096, 42)\n"
     ]
    }
   ],
   "source": [
    "sessions_merged = pd.merge(ac_types, dev_type, on='user_id', how='inner')\n",
    "sessions_merged = pd.merge(sessions_merged, secs, on='user_id', how='inner')\n",
    "\n",
    "# merge session_merged to train and test data\n",
    "sessions_merged=sessions_merged.rename(columns = {'user_id':'id'})\n",
    "train_users_merge = pd.merge(train_users, sessions_merged, on='id', how='left')\n",
    "test_users_merge = pd.merge(test_users, sessions_merged, on='id', how='left')\n",
    "\n",
    "train_users_merge.fillna(-1, inplace=True)\n",
    "test_users_merge.fillna(-1, inplace=True)\n",
    "\n",
    "print (train_users.shape)\n",
    "print (test_users.shape)\n",
    "print(train_users_merge.shape)\n",
    "print(test_users_merge.shape)\n",
    "train_users_merge_wo_scale = train_users_merge\n",
    "test_users_merge_wo_scale = test_users_merge"
   ]
  },
  {
   "cell_type": "code",
   "execution_count": 71,
   "metadata": {
    "collapsed": false,
    "scrolled": false
   },
   "outputs": [
    {
     "data": {
      "text/html": [
       "<div>\n",
       "<table border=\"1\" class=\"dataframe\">\n",
       "  <thead>\n",
       "    <tr style=\"text-align: right;\">\n",
       "      <th></th>\n",
       "      <th>id</th>\n",
       "      <th>timestamp_first_active</th>\n",
       "      <th>gender</th>\n",
       "      <th>age</th>\n",
       "      <th>signup_method</th>\n",
       "      <th>signup_flow</th>\n",
       "      <th>language</th>\n",
       "      <th>affiliate_channel</th>\n",
       "      <th>affiliate_provider</th>\n",
       "      <th>first_affiliate_tracked</th>\n",
       "      <th>...</th>\n",
       "      <th>Linux Desktop</th>\n",
       "      <th>Mac Desktop</th>\n",
       "      <th>Opera Phone</th>\n",
       "      <th>Tablet</th>\n",
       "      <th>Windows Desktop</th>\n",
       "      <th>Windows Phone</th>\n",
       "      <th>iPad Tablet</th>\n",
       "      <th>iPhone</th>\n",
       "      <th>iPodtouch</th>\n",
       "      <th>secs_elapsed</th>\n",
       "    </tr>\n",
       "  </thead>\n",
       "  <tbody>\n",
       "    <tr>\n",
       "      <th>0</th>\n",
       "      <td>gxn3p5htnn</td>\n",
       "      <td>20090319043255</td>\n",
       "      <td>0</td>\n",
       "      <td>36.51407</td>\n",
       "      <td>0</td>\n",
       "      <td>0</td>\n",
       "      <td>1</td>\n",
       "      <td>1</td>\n",
       "      <td>1</td>\n",
       "      <td>1</td>\n",
       "      <td>...</td>\n",
       "      <td>-1</td>\n",
       "      <td>-1</td>\n",
       "      <td>-1</td>\n",
       "      <td>-1</td>\n",
       "      <td>-1</td>\n",
       "      <td>-1</td>\n",
       "      <td>-1</td>\n",
       "      <td>-1</td>\n",
       "      <td>-1</td>\n",
       "      <td>-1</td>\n",
       "    </tr>\n",
       "    <tr>\n",
       "      <th>1</th>\n",
       "      <td>820tgsjxq7</td>\n",
       "      <td>20090523174809</td>\n",
       "      <td>1</td>\n",
       "      <td>38.00000</td>\n",
       "      <td>0</td>\n",
       "      <td>0</td>\n",
       "      <td>1</td>\n",
       "      <td>6</td>\n",
       "      <td>2</td>\n",
       "      <td>1</td>\n",
       "      <td>...</td>\n",
       "      <td>-1</td>\n",
       "      <td>-1</td>\n",
       "      <td>-1</td>\n",
       "      <td>-1</td>\n",
       "      <td>-1</td>\n",
       "      <td>-1</td>\n",
       "      <td>-1</td>\n",
       "      <td>-1</td>\n",
       "      <td>-1</td>\n",
       "      <td>-1</td>\n",
       "    </tr>\n",
       "    <tr>\n",
       "      <th>2</th>\n",
       "      <td>4ft3gnwmtx</td>\n",
       "      <td>20090609231247</td>\n",
       "      <td>0</td>\n",
       "      <td>56.00000</td>\n",
       "      <td>2</td>\n",
       "      <td>3</td>\n",
       "      <td>1</td>\n",
       "      <td>1</td>\n",
       "      <td>1</td>\n",
       "      <td>1</td>\n",
       "      <td>...</td>\n",
       "      <td>-1</td>\n",
       "      <td>-1</td>\n",
       "      <td>-1</td>\n",
       "      <td>-1</td>\n",
       "      <td>-1</td>\n",
       "      <td>-1</td>\n",
       "      <td>-1</td>\n",
       "      <td>-1</td>\n",
       "      <td>-1</td>\n",
       "      <td>-1</td>\n",
       "    </tr>\n",
       "    <tr>\n",
       "      <th>3</th>\n",
       "      <td>bjjt8pjhuk</td>\n",
       "      <td>20091031060129</td>\n",
       "      <td>0</td>\n",
       "      <td>42.00000</td>\n",
       "      <td>0</td>\n",
       "      <td>0</td>\n",
       "      <td>1</td>\n",
       "      <td>1</td>\n",
       "      <td>1</td>\n",
       "      <td>1</td>\n",
       "      <td>...</td>\n",
       "      <td>-1</td>\n",
       "      <td>-1</td>\n",
       "      <td>-1</td>\n",
       "      <td>-1</td>\n",
       "      <td>-1</td>\n",
       "      <td>-1</td>\n",
       "      <td>-1</td>\n",
       "      <td>-1</td>\n",
       "      <td>-1</td>\n",
       "      <td>-1</td>\n",
       "    </tr>\n",
       "    <tr>\n",
       "      <th>4</th>\n",
       "      <td>87mebub9p4</td>\n",
       "      <td>20091208061105</td>\n",
       "      <td>0</td>\n",
       "      <td>41.00000</td>\n",
       "      <td>2</td>\n",
       "      <td>0</td>\n",
       "      <td>1</td>\n",
       "      <td>1</td>\n",
       "      <td>1</td>\n",
       "      <td>1</td>\n",
       "      <td>...</td>\n",
       "      <td>-1</td>\n",
       "      <td>-1</td>\n",
       "      <td>-1</td>\n",
       "      <td>-1</td>\n",
       "      <td>-1</td>\n",
       "      <td>-1</td>\n",
       "      <td>-1</td>\n",
       "      <td>-1</td>\n",
       "      <td>-1</td>\n",
       "      <td>-1</td>\n",
       "    </tr>\n",
       "  </tbody>\n",
       "</table>\n",
       "<p>5 rows × 42 columns</p>\n",
       "</div>"
      ],
      "text/plain": [
       "           id  timestamp_first_active  gender       age  signup_method  \\\n",
       "0  gxn3p5htnn          20090319043255       0  36.51407              0   \n",
       "1  820tgsjxq7          20090523174809       1  38.00000              0   \n",
       "2  4ft3gnwmtx          20090609231247       0  56.00000              2   \n",
       "3  bjjt8pjhuk          20091031060129       0  42.00000              0   \n",
       "4  87mebub9p4          20091208061105       0  41.00000              2   \n",
       "\n",
       "   signup_flow  language  affiliate_channel  affiliate_provider  \\\n",
       "0            0         1                  1                   1   \n",
       "1            0         1                  6                   2   \n",
       "2            3         1                  1                   1   \n",
       "3            0         1                  1                   1   \n",
       "4            0         1                  1                   1   \n",
       "\n",
       "   first_affiliate_tracked      ...       Linux Desktop  Mac Desktop  \\\n",
       "0                        1      ...                  -1           -1   \n",
       "1                        1      ...                  -1           -1   \n",
       "2                        1      ...                  -1           -1   \n",
       "3                        1      ...                  -1           -1   \n",
       "4                        1      ...                  -1           -1   \n",
       "\n",
       "   Opera Phone  Tablet  Windows Desktop  Windows Phone  iPad Tablet  iPhone  \\\n",
       "0           -1      -1               -1             -1           -1      -1   \n",
       "1           -1      -1               -1             -1           -1      -1   \n",
       "2           -1      -1               -1             -1           -1      -1   \n",
       "3           -1      -1               -1             -1           -1      -1   \n",
       "4           -1      -1               -1             -1           -1      -1   \n",
       "\n",
       "   iPodtouch  secs_elapsed  \n",
       "0         -1            -1  \n",
       "1         -1            -1  \n",
       "2         -1            -1  \n",
       "3         -1            -1  \n",
       "4         -1            -1  \n",
       "\n",
       "[5 rows x 42 columns]"
      ]
     },
     "execution_count": 71,
     "metadata": {},
     "output_type": "execute_result"
    }
   ],
   "source": [
    "train_users_merge.head()"
   ]
  },
  {
   "cell_type": "code",
   "execution_count": 72,
   "metadata": {
    "collapsed": false
   },
   "outputs": [],
   "source": [
    "country_destination_encoding = {'NDF': 0,\n",
    "'US' : 1,\n",
    "'other' : 2,\n",
    "'FR' : 3,\n",
    "'IT' : 4,\n",
    "'GB' : 5,\n",
    "'ES' : 6,\n",
    "'CA' : 7,\n",
    "'DE' : 8,\n",
    "'NL' : 9,\n",
    "'AU' : 10,\n",
    "'PT' : 11}\n",
    "\n",
    "# Convert series to frame\n",
    "labels_df = train_users_labels.to_frame()\n",
    "\n",
    "for data in [labels_df]:\n",
    "    data['country_destination'] = data['country_destination'].apply(lambda x: country_destination_encoding[x])\n",
    "\n",
    "    \n",
    "    "
   ]
  },
  {
   "cell_type": "code",
   "execution_count": 73,
   "metadata": {
    "collapsed": false
   },
   "outputs": [
    {
     "name": "stdout",
     "output_type": "stream",
     "text": [
      "(213451, 17)\n",
      "   timestamp_first_active  gender       age  signup_method  signup_flow  \\\n",
      "0          20090319043255       0  36.51407              0            0   \n",
      "1          20090523174809       1  38.00000              0            0   \n",
      "2          20090609231247       0  56.00000              2            3   \n",
      "3          20091031060129       0  42.00000              0            0   \n",
      "4          20091208061105       0  41.00000              2            0   \n",
      "\n",
      "   language  affiliate_channel  affiliate_provider  first_affiliate_tracked  \\\n",
      "0         1                  1                   1                        1   \n",
      "1         1                  6                   2                        1   \n",
      "2         1                  1                   1                        1   \n",
      "3         1                  1                   1                        1   \n",
      "4         1                  1                   1                        1   \n",
      "\n",
      "   signup_app  first_device_type  first_browser  created_year  created_month  \\\n",
      "0           1                  1              1          2010              6   \n",
      "1           1                  1              1          2011              5   \n",
      "2           1                  3              5          2010              9   \n",
      "3           1                  1              3          2011             12   \n",
      "4           1                  1              1          2010              9   \n",
      "\n",
      "   created_day  session_count  \n",
      "0           28              0  \n",
      "1           25              0  \n",
      "2           28              0  \n",
      "3            5              0  \n",
      "4           14              0  \n",
      "(213451, 16)\n"
     ]
    }
   ],
   "source": [
    "print (train_users.shape)\n",
    "train_users=train_users.drop(['id'], axis=1)\n",
    "train_users_merge=train_users_merge.drop(['id'], axis=1)\n",
    "#train_users.drop(train_users.columns[[1, 69]], axis=1, inplace=True)\n",
    "print (train_users.head(n=5))\n",
    "print (train_users.shape)\n"
   ]
  },
  {
   "cell_type": "code",
   "execution_count": 74,
   "metadata": {
    "collapsed": false
   },
   "outputs": [],
   "source": [
    "from sklearn import preprocessing\n",
    "\n",
    "stdscaler = preprocessing.StandardScaler()\n",
    "train_users_scaled = stdscaler.fit_transform(train_users.values);\n",
    "train_users = pd.DataFrame(train_users_scaled, columns = train_users.columns)\n",
    "\n",
    "train_users_merge_scaled = stdscaler.fit_transform(train_users_merge.values);\n",
    "train_users_merge = pd.DataFrame(train_users_merge_scaled, columns = train_users_merge.columns)\n",
    "\n",
    "#test_users_scaled = stdscaler.fit_transform(test_users.values);\n",
    "#test_users = pd.DataFrame(test_users_scaled, columns = test_users.columns)\n",
    "\n"
   ]
  },
  {
   "cell_type": "code",
   "execution_count": 75,
   "metadata": {
    "collapsed": false
   },
   "outputs": [
    {
     "name": "stdout",
     "output_type": "stream",
     "text": [
      "   timestamp_first_active    gender       age  signup_method  signup_flow  \\\n",
      "0               -4.380020 -0.927300  0.000000      -1.596552    -0.427798   \n",
      "1               -4.357961  1.058047  0.169202      -1.596552    -0.427798   \n",
      "2               -4.348661 -0.927300  2.218855       0.628333    -0.035009   \n",
      "3               -4.303076 -0.927300  0.624681      -1.596552    -0.427798   \n",
      "4               -4.283949 -0.927300  0.510811       0.628333    -0.427798   \n",
      "\n",
      "   language  affiliate_channel  affiliate_provider  first_affiliate_tracked  \\\n",
      "0 -0.141579          -0.582242           -0.468760                -0.798954   \n",
      "1 -0.141579           2.556797            0.251719                -0.798954   \n",
      "2 -0.141579          -0.582242           -0.468760                -0.798954   \n",
      "3 -0.141579          -0.582242           -0.468760                -0.798954   \n",
      "4 -0.141579          -0.582242           -0.468760                -0.798954   \n",
      "\n",
      "   signup_app  first_device_type  first_browser  created_year  created_month  \\\n",
      "0   -0.359375          -0.876174      -0.971889     -3.222044      -0.006939   \n",
      "1   -0.359375          -0.876174      -0.971889     -2.156499      -0.315897   \n",
      "2   -0.359375           0.324910       1.091035     -3.222044       0.919936   \n",
      "3   -0.359375          -0.876174       0.059573     -2.156499       1.846811   \n",
      "4   -0.359375          -0.876174      -0.971889     -3.222044       0.919936   \n",
      "\n",
      "   created_day  session_count  country_destination  \n",
      "0     1.387946      -0.345061                    0  \n",
      "1     1.044700      -0.345061                    0  \n",
      "2     1.387946      -0.345061                    1  \n",
      "3    -1.243607      -0.345061                    2  \n",
      "4    -0.213869      -0.345061                    1  \n"
     ]
    }
   ],
   "source": [
    "train_users['country_destination'] = labels_df\n",
    "print(train_users.head())"
   ]
  },
  {
   "cell_type": "code",
   "execution_count": 76,
   "metadata": {
    "collapsed": false
   },
   "outputs": [
    {
     "name": "stdout",
     "output_type": "stream",
     "text": [
      "   timestamp_first_active    gender       age  signup_method  signup_flow  \\\n",
      "0               -4.380020 -0.927300  0.000000      -1.596552    -0.427798   \n",
      "1               -4.357961  1.058047  0.169202      -1.596552    -0.427798   \n",
      "2               -4.348661 -0.927300  2.218855       0.628333    -0.035009   \n",
      "3               -4.303076 -0.927300  0.624681      -1.596552    -0.427798   \n",
      "4               -4.283949 -0.927300  0.510811       0.628333    -0.427798   \n",
      "\n",
      "   language  affiliate_channel  affiliate_provider  first_affiliate_tracked  \\\n",
      "0 -0.141579          -0.582242           -0.468760                -0.798954   \n",
      "1 -0.141579           2.556797            0.251719                -0.798954   \n",
      "2 -0.141579          -0.582242           -0.468760                -0.798954   \n",
      "3 -0.141579          -0.582242           -0.468760                -0.798954   \n",
      "4 -0.141579          -0.582242           -0.468760                -0.798954   \n",
      "\n",
      "   signup_app         ...           Mac Desktop  Opera Phone    Tablet  \\\n",
      "0   -0.359375         ...             -0.220553    -0.726855 -0.062776   \n",
      "1   -0.359375         ...             -0.220553    -0.726855 -0.062776   \n",
      "2   -0.359375         ...             -0.220553    -0.726855 -0.062776   \n",
      "3   -0.359375         ...             -0.220553    -0.726855 -0.062776   \n",
      "4   -0.359375         ...             -0.220553    -0.726855 -0.062776   \n",
      "\n",
      "   Windows Desktop  Windows Phone  iPad Tablet    iPhone  iPodtouch  \\\n",
      "0        -0.196923      -0.707107    -0.108443 -0.133838  -0.153578   \n",
      "1        -0.196923      -0.707107    -0.108443 -0.133838  -0.153578   \n",
      "2        -0.196923      -0.707107    -0.108443 -0.133838  -0.153578   \n",
      "3        -0.196923      -0.707107    -0.108443 -0.133838  -0.153578   \n",
      "4        -0.196923      -0.707107    -0.108443 -0.133838  -0.153578   \n",
      "\n",
      "   secs_elapsed  country_destination  \n",
      "0     -0.391996                    0  \n",
      "1     -0.391996                    0  \n",
      "2     -0.391996                    1  \n",
      "3     -0.391996                    2  \n",
      "4     -0.391996                    1  \n",
      "\n",
      "[5 rows x 42 columns]\n"
     ]
    }
   ],
   "source": [
    "train_users_merge['country_destination'] = labels_df\n",
    "print(train_users_merge.head())"
   ]
  },
  {
   "cell_type": "code",
   "execution_count": 137,
   "metadata": {
    "collapsed": false
   },
   "outputs": [],
   "source": [
    "train_users.to_csv('train_users_wo_merge_scale.csv',index=False)\n",
    "train_users_merge.to_csv('train_users_merge_scale.csv',index=False)"
   ]
  },
  {
   "cell_type": "code",
   "execution_count": 138,
   "metadata": {
    "collapsed": true
   },
   "outputs": [],
   "source": [
    "train_users_merge_wo_scale['country_destination'] = labels_df\n",
    "train_users_merge_wo_scale.to_csv('train_users_merge_wo_scale.csv',index=False)\n",
    "test_users_merge_wo_scale.to_csv('test_users_merge_wo_scale.csv',index=False)\n"
   ]
  },
  {
   "cell_type": "code",
   "execution_count": 140,
   "metadata": {
    "collapsed": false
   },
   "outputs": [],
   "source": [
    "train_user_wo_merge_wo_scale['country_destination'] = labels_df\n",
    "train_user_wo_merge_wo_scale.to_csv('train_users_wo_merge_wo_scale.csv',index=False)\n",
    "test_user_wo_merge_wo_scale.to_csv('test_users_wo_merge_wo_scale.csv',index=False)"
   ]
  },
  {
   "cell_type": "code",
   "execution_count": null,
   "metadata": {
    "collapsed": true
   },
   "outputs": [],
   "source": []
  }
 ],
 "metadata": {
  "kernelspec": {
   "display_name": "Python 3",
   "language": "python",
   "name": "python3"
  },
  "language_info": {
   "codemirror_mode": {
    "name": "ipython",
    "version": 3
   },
   "file_extension": ".py",
   "mimetype": "text/x-python",
   "name": "python",
   "nbconvert_exporter": "python",
   "pygments_lexer": "ipython3",
   "version": "3.5.1"
  }
 },
 "nbformat": 4,
 "nbformat_minor": 0
}
