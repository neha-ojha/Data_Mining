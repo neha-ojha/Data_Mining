{
 "cells": [
  {
   "cell_type": "markdown",
   "metadata": {},
   "source": [
    "# Decision Tree"
   ]
  },
  {
   "cell_type": "markdown",
   "metadata": {},
   "source": [
    "This notebook tries different models on the preprocessed airbnb dataset using Decision Tree Classifier."
   ]
  },
  {
   "cell_type": "code",
   "execution_count": 1,
   "metadata": {
    "collapsed": true
   },
   "outputs": [],
   "source": [
    "import pandas as pd\n",
    "import numpy as np\n",
    "from sklearn import preprocessing\n",
    "from sklearn import cross_validation\n",
    "from sklearn import tree\n",
    "from sklearn.preprocessing import LabelBinarizer\n",
    "from sklearn.metrics import make_scorer\n",
    "\n",
    "data = pd.read_csv('preprocessed_airbnb_train.csv')\n",
    "labels = data.loc[:,'country_destination']\n",
    "data = data.drop(['country_destination'], axis=1)\n",
    "\n",
    "def folds_to_split(data,targets,train,test):\n",
    "    data_tr = pd.DataFrame(data).iloc[train]\n",
    "    data_te = pd.DataFrame(data).iloc[test]\n",
    "    labels_tr = pd.DataFrame(targets).iloc[train]\n",
    "    labels_te = pd.DataFrame(targets).iloc[test]\n",
    "    return [data_tr, data_te, labels_tr, labels_te]\n",
    "\n",
    "def dcg_score(y_true, y_score, k=5):\n",
    "    order = np.argsort(y_score)[::-1]\n",
    "    y_true = np.take(y_true, order[:k])\n",
    "\n",
    "    gain = 2 ** y_true - 1\n",
    "\n",
    "    discounts = np.log2(np.arange(len(y_true)) + 2)\n",
    "    return np.sum(gain / discounts)\n",
    "\n",
    "def ndcg_score(te_labels, predict, k):\n",
    "    lb = LabelBinarizer()\n",
    "    lb.fit(range(len(predict) + 1))\n",
    "    T = lb.transform(te_labels)\n",
    "    scores = []\n",
    "\n",
    "    for y_true, y_score in zip(T, predict):\n",
    "        actual = dcg_score(y_true, y_score, k)\n",
    "        best = dcg_score(y_true, y_true, k)  \n",
    "        score = float(actual) / float(best)\n",
    "        scores.append(score)\n",
    "\n",
    "    return np.mean(scores)\n",
    "\n",
    "ndcg_scorer = make_scorer(ndcg_score, needs_proba=True, k=5)\n"
   ]
  },
  {
   "cell_type": "markdown",
   "metadata": {},
   "source": [
    "### Varying the quality of split"
   ]
  },
  {
   "cell_type": "code",
   "execution_count": 2,
   "metadata": {
    "collapsed": false
   },
   "outputs": [
    {
     "name": "stdout",
     "output_type": "stream",
     "text": [
      "Fold : 1, Criterion : entropy, Score : 0.508978660528\n",
      "Fold : 1, Criterion : gini, Score : 0.508286770335\n",
      "Fold : 2, Criterion : entropy, Score : 0.509414322253\n",
      "Fold : 2, Criterion : gini, Score : 0.511634670379\n",
      "Fold : 3, Criterion : entropy, Score : 0.508166467162\n",
      "Fold : 3, Criterion : gini, Score : 0.514350523465\n",
      "Fold : 4, Criterion : entropy, Score : 0.510487152992\n",
      "Fold : 4, Criterion : gini, Score : 0.507182109847\n",
      "Fold : 5, Criterion : entropy, Score : 0.504497241285\n",
      "Fold : 5, Criterion : gini, Score : 0.510397868822\n",
      "Fold : 6, Criterion : entropy, Score : 0.506438441105\n",
      "Fold : 6, Criterion : gini, Score : 0.507322444109\n",
      "Fold : 7, Criterion : entropy, Score : 0.510874175103\n",
      "Fold : 7, Criterion : gini, Score : 0.509888305434\n",
      "Fold : 8, Criterion : entropy, Score : 0.515694869526\n",
      "Fold : 8, Criterion : gini, Score : 0.51294124663\n",
      "Fold : 9, Criterion : entropy, Score : 0.513282732152\n",
      "Fold : 9, Criterion : gini, Score : 0.508767538266\n",
      "Fold : 10, Criterion : entropy, Score : 0.510810460734\n",
      "Fold : 10, Criterion : gini, Score : 0.511682366334\n"
     ]
    }
   ],
   "source": [
    "data_nodfb = data.drop(['dfb_year', 'dfb_month', 'dfb_day'], axis=1)\n",
    "data_nodfb = pd.DataFrame(preprocessing.StandardScaler().fit_transform(data_nodfb))\n",
    "foldnum=0\n",
    "results = pd.DataFrame()\n",
    "for train, test in cross_validation.KFold(len(data_nodfb), shuffle=True, n_folds=10,\n",
    "                                           random_state=20160217):\n",
    "    foldnum+=1\n",
    "    [tr_data, te_data, tr_labels, te_labels] = folds_to_split(data_nodfb, labels, train, test)\n",
    "    for criterion in ['entropy', 'gini']:\n",
    "        dtree = tree.DecisionTreeClassifier(random_state=20160121, criterion=criterion)\n",
    "        dtree = dtree.fit(tr_data, tr_labels.values.ravel())\n",
    "        dtree_predict = dtree.predict_proba(te_data) \n",
    "        score = ndcg_score(te_labels.as_matrix(), dtree_predict, k=5)\n",
    "        print 'Fold : {}, Criterion : {}, Score : {}'.format(foldnum, criterion, score )\n",
    "        results.loc[foldnum, 'criterion=%s'%criterion ] = score"
   ]
  },
  {
   "cell_type": "code",
   "execution_count": 3,
   "metadata": {
    "collapsed": false
   },
   "outputs": [
    {
     "data": {
      "text/plain": [
       "criterion=entropy    0.509864\n",
       "criterion=gini       0.510245\n",
       "dtype: float64"
      ]
     },
     "execution_count": 3,
     "metadata": {},
     "output_type": "execute_result"
    }
   ],
   "source": [
    "results.mean()"
   ]
  },
  {
   "cell_type": "markdown",
   "metadata": {},
   "source": [
    "It can be seen that gini performs slightly better thatn entropy. "
   ]
  },
  {
   "cell_type": "markdown",
   "metadata": {},
   "source": [
    "### Varying the max-depth"
   ]
  },
  {
   "cell_type": "code",
   "execution_count": 4,
   "metadata": {
    "collapsed": false
   },
   "outputs": [
    {
     "name": "stdout",
     "output_type": "stream",
     "text": [
      "Fold : 1, Max-depth : 3, Score : 0.508286770335\n",
      "Fold : 1, Max-depth : 4, Score : 0.508286770335\n",
      "Fold : 1, Max-depth : 5, Score : 0.508286770335\n",
      "Fold : 1, Max-depth : 6, Score : 0.508286770335\n",
      "Fold : 1, Max-depth : 7, Score : 0.508286770335\n",
      "Fold : 2, Max-depth : 3, Score : 0.511634670379\n",
      "Fold : 2, Max-depth : 4, Score : 0.511634670379\n",
      "Fold : 2, Max-depth : 5, Score : 0.511634670379\n",
      "Fold : 2, Max-depth : 6, Score : 0.511634670379\n",
      "Fold : 2, Max-depth : 7, Score : 0.511634670379\n",
      "Fold : 3, Max-depth : 3, Score : 0.514350523465\n",
      "Fold : 3, Max-depth : 4, Score : 0.514350523465\n",
      "Fold : 3, Max-depth : 5, Score : 0.514350523465\n",
      "Fold : 3, Max-depth : 6, Score : 0.514350523465\n",
      "Fold : 3, Max-depth : 7, Score : 0.514350523465\n",
      "Fold : 4, Max-depth : 3, Score : 0.507182109847\n",
      "Fold : 4, Max-depth : 4, Score : 0.507182109847\n",
      "Fold : 4, Max-depth : 5, Score : 0.507182109847\n",
      "Fold : 4, Max-depth : 6, Score : 0.507182109847\n",
      "Fold : 4, Max-depth : 7, Score : 0.507182109847\n",
      "Fold : 5, Max-depth : 3, Score : 0.510397868822\n",
      "Fold : 5, Max-depth : 4, Score : 0.510397868822\n",
      "Fold : 5, Max-depth : 5, Score : 0.510397868822\n",
      "Fold : 5, Max-depth : 6, Score : 0.510397868822\n",
      "Fold : 5, Max-depth : 7, Score : 0.510397868822\n",
      "Fold : 6, Max-depth : 3, Score : 0.507322444109\n",
      "Fold : 6, Max-depth : 4, Score : 0.507322444109\n",
      "Fold : 6, Max-depth : 5, Score : 0.507322444109\n",
      "Fold : 6, Max-depth : 6, Score : 0.507322444109\n",
      "Fold : 6, Max-depth : 7, Score : 0.507322444109\n",
      "Fold : 7, Max-depth : 3, Score : 0.509888305434\n",
      "Fold : 7, Max-depth : 4, Score : 0.509888305434\n",
      "Fold : 7, Max-depth : 5, Score : 0.509888305434\n",
      "Fold : 7, Max-depth : 6, Score : 0.509888305434\n",
      "Fold : 7, Max-depth : 7, Score : 0.509888305434\n",
      "Fold : 8, Max-depth : 3, Score : 0.51294124663\n",
      "Fold : 8, Max-depth : 4, Score : 0.51294124663\n",
      "Fold : 8, Max-depth : 5, Score : 0.51294124663\n",
      "Fold : 8, Max-depth : 6, Score : 0.51294124663\n",
      "Fold : 8, Max-depth : 7, Score : 0.51294124663\n",
      "Fold : 9, Max-depth : 3, Score : 0.508767538266\n",
      "Fold : 9, Max-depth : 4, Score : 0.508767538266\n",
      "Fold : 9, Max-depth : 5, Score : 0.508767538266\n",
      "Fold : 9, Max-depth : 6, Score : 0.508767538266\n",
      "Fold : 9, Max-depth : 7, Score : 0.508767538266\n",
      "Fold : 10, Max-depth : 3, Score : 0.511682366334\n",
      "Fold : 10, Max-depth : 4, Score : 0.511682366334\n",
      "Fold : 10, Max-depth : 5, Score : 0.511682366334\n",
      "Fold : 10, Max-depth : 6, Score : 0.511682366334\n",
      "Fold : 10, Max-depth : 7, Score : 0.511682366334\n"
     ]
    }
   ],
   "source": [
    "results = pd.DataFrame()\n",
    "foldnum=0\n",
    "for train, test in cross_validation.KFold(len(data_nodfb), shuffle=True, n_folds=10,\n",
    "                                           random_state=20160217):\n",
    "    foldnum+=1\n",
    "    [tr_data, te_data, tr_labels, te_labels] = folds_to_split(data_nodfb, labels, train, test)\n",
    "\n",
    "    for max_depth in range(3, 8):\n",
    "        dtree = tree.DecisionTreeClassifier(random_state=20160121, criterion='gini')\n",
    "        dtree = dtree.fit(tr_data, tr_labels.values.ravel())\n",
    "        dtree_predict = dtree.predict_proba(te_data) \n",
    "        score = ndcg_score(te_labels.as_matrix(), dtree_predict, k=5)\n",
    "        print 'Fold : {}, Max-depth : {}, Score : {}'.format( foldnum, max_depth, score )\n",
    "        results.loc[foldnum, 'max_depth=%d'%max_depth ] = score"
   ]
  },
  {
   "cell_type": "code",
   "execution_count": 5,
   "metadata": {
    "collapsed": false
   },
   "outputs": [
    {
     "data": {
      "text/plain": [
       "max_depth=3    0.510245\n",
       "max_depth=4    0.510245\n",
       "max_depth=5    0.510245\n",
       "max_depth=6    0.510245\n",
       "max_depth=7    0.510245\n",
       "dtype: float64"
      ]
     },
     "execution_count": 5,
     "metadata": {},
     "output_type": "execute_result"
    }
   ],
   "source": [
    "results.mean()"
   ]
  },
  {
   "cell_type": "markdown",
   "metadata": {},
   "source": [
    "It can be seen that there is no change in the nDCG score with the change in max_depth of the decision tree and also the nDCG score is not so good."
   ]
  },
  {
   "cell_type": "markdown",
   "metadata": {},
   "source": [
    "### Varying the min_samples_leaf"
   ]
  },
  {
   "cell_type": "code",
   "execution_count": 6,
   "metadata": {
    "collapsed": false
   },
   "outputs": [
    {
     "name": "stdout",
     "output_type": "stream",
     "text": [
      "Fold : 1, Min_S_Leafs : 5, Score : 0.693051160319\n",
      "Fold : 1, Min_S_Leafs : 20, Score : 0.792821379991\n",
      "Fold : 1, Min_S_Leafs : 50, Score : 0.812100920541\n",
      "Fold : 2, Min_S_Leafs : 5, Score : 0.696067859086\n",
      "Fold : 2, Min_S_Leafs : 20, Score : 0.7912779994\n",
      "Fold : 2, Min_S_Leafs : 50, Score : 0.811791004661\n",
      "Fold : 3, Min_S_Leafs : 5, Score : 0.699703513226\n",
      "Fold : 3, Min_S_Leafs : 20, Score : 0.791866924402\n",
      "Fold : 3, Min_S_Leafs : 50, Score : 0.809613566783\n",
      "Fold : 4, Min_S_Leafs : 5, Score : 0.699046191381\n",
      "Fold : 4, Min_S_Leafs : 20, Score : 0.792603471535\n",
      "Fold : 4, Min_S_Leafs : 50, Score : 0.810104860706\n",
      "Fold : 5, Min_S_Leafs : 5, Score : 0.695535938181\n",
      "Fold : 5, Min_S_Leafs : 20, Score : 0.791506374242\n",
      "Fold : 5, Min_S_Leafs : 50, Score : 0.811754519079\n",
      "Fold : 6, Min_S_Leafs : 5, Score : 0.698089469128\n",
      "Fold : 6, Min_S_Leafs : 20, Score : 0.792980252989\n",
      "Fold : 6, Min_S_Leafs : 50, Score : 0.809155165248\n",
      "Fold : 7, Min_S_Leafs : 5, Score : 0.699492869762\n",
      "Fold : 7, Min_S_Leafs : 20, Score : 0.794114324546\n",
      "Fold : 7, Min_S_Leafs : 50, Score : 0.811772816018\n",
      "Fold : 8, Min_S_Leafs : 5, Score : 0.701379285917\n",
      "Fold : 8, Min_S_Leafs : 20, Score : 0.79387173034\n",
      "Fold : 8, Min_S_Leafs : 50, Score : 0.810642500354\n",
      "Fold : 9, Min_S_Leafs : 5, Score : 0.696018094286\n",
      "Fold : 9, Min_S_Leafs : 20, Score : 0.790021507955\n",
      "Fold : 9, Min_S_Leafs : 50, Score : 0.810916277709\n",
      "Fold : 10, Min_S_Leafs : 5, Score : 0.697927903077\n",
      "Fold : 10, Min_S_Leafs : 20, Score : 0.790755012971\n",
      "Fold : 10, Min_S_Leafs : 50, Score : 0.808178543155\n"
     ]
    }
   ],
   "source": [
    "results = pd.DataFrame()\n",
    "foldnum=0\n",
    "for train, test in cross_validation.KFold(len(data_nodfb), shuffle=True, n_folds=10,\n",
    "                                           random_state=20160217):\n",
    "    foldnum+=1\n",
    "    [tr_data, te_data, tr_labels, te_labels] = folds_to_split(data_nodfb, labels, train, test)\n",
    "\n",
    "    for min_sample_leafs in [5, 20, 50]:\n",
    "        dtree = tree.DecisionTreeClassifier(criterion='gini', min_samples_leaf=min_sample_leafs)\n",
    "        dtree = dtree.fit(tr_data, tr_labels.values.ravel())\n",
    "        dtree_predict = dtree.predict_proba(te_data) \n",
    "        score = ndcg_score(te_labels.as_matrix(), dtree_predict, k=5)\n",
    "        print 'Fold : {}, Min_S_Leafs : {}, Score : {}'.format( foldnum, min_sample_leafs, score )\n",
    "        results.loc[foldnum, 'min_s_leafs=%d'%min_sample_leafs ] = score"
   ]
  },
  {
   "cell_type": "code",
   "execution_count": 7,
   "metadata": {
    "collapsed": false
   },
   "outputs": [
    {
     "data": {
      "text/plain": [
       "min_s_leafs=5     0.697631\n",
       "min_s_leafs=20    0.792182\n",
       "min_s_leafs=50    0.810603\n",
       "dtype: float64"
      ]
     },
     "execution_count": 7,
     "metadata": {},
     "output_type": "execute_result"
    }
   ],
   "source": [
    "results.mean()"
   ]
  },
  {
   "cell_type": "markdown",
   "metadata": {},
   "source": [
    "There is a drastic increase in the nDCG score with the increase in the min_samples_leaf and it performs the best when min_samples_leaf is 50"
   ]
  },
  {
   "cell_type": "markdown",
   "metadata": {},
   "source": [
    "### Varying max_leaf_nodes"
   ]
  },
  {
   "cell_type": "code",
   "execution_count": 8,
   "metadata": {
    "collapsed": false
   },
   "outputs": [
    {
     "name": "stdout",
     "output_type": "stream",
     "text": [
      "Fold : 1, max_leaf_nodes : 5, Score : 0.822145233814\n",
      "Fold : 1, max_leaf_nodes : 6, Score : 0.822145233814\n",
      "Fold : 1, max_leaf_nodes : 7, Score : 0.822145233814\n",
      "Fold : 1, max_leaf_nodes : 8, Score : 0.822145233814\n",
      "Fold : 1, max_leaf_nodes : 9, Score : 0.822163356779\n",
      "Fold : 1, max_leaf_nodes : 10, Score : 0.822199602709\n",
      "Fold : 1, max_leaf_nodes : 11, Score : 0.822181479744\n",
      "Fold : 2, max_leaf_nodes : 5, Score : 0.823966010511\n",
      "Fold : 2, max_leaf_nodes : 6, Score : 0.823966010511\n",
      "Fold : 2, max_leaf_nodes : 7, Score : 0.823966010511\n",
      "Fold : 2, max_leaf_nodes : 8, Score : 0.823966010511\n",
      "Fold : 2, max_leaf_nodes : 9, Score : 0.823966010511\n",
      "Fold : 2, max_leaf_nodes : 10, Score : 0.823893515256\n",
      "Fold : 2, max_leaf_nodes : 11, Score : 0.823875391442\n",
      "Fold : 3, max_leaf_nodes : 5, Score : 0.821608880654\n",
      "Fold : 3, max_leaf_nodes : 6, Score : 0.821608880654\n",
      "Fold : 3, max_leaf_nodes : 7, Score : 0.821608880654\n",
      "Fold : 3, max_leaf_nodes : 8, Score : 0.821608880654\n",
      "Fold : 3, max_leaf_nodes : 9, Score : 0.821645128282\n",
      "Fold : 3, max_leaf_nodes : 10, Score : 0.821681375909\n",
      "Fold : 3, max_leaf_nodes : 11, Score : 0.821681375909\n",
      "Fold : 4, max_leaf_nodes : 5, Score : 0.822545658793\n",
      "Fold : 4, max_leaf_nodes : 6, Score : 0.822545658793\n",
      "Fold : 4, max_leaf_nodes : 7, Score : 0.822545658793\n",
      "Fold : 4, max_leaf_nodes : 8, Score : 0.822545658793\n",
      "Fold : 4, max_leaf_nodes : 9, Score : 0.822509411165\n",
      "Fold : 4, max_leaf_nodes : 10, Score : 0.822509411165\n",
      "Fold : 4, max_leaf_nodes : 11, Score : 0.822455039723\n",
      "Fold : 5, max_leaf_nodes : 5, Score : 0.822984162013\n",
      "Fold : 5, max_leaf_nodes : 6, Score : 0.822984162013\n",
      "Fold : 5, max_leaf_nodes : 7, Score : 0.822984162013\n",
      "Fold : 5, max_leaf_nodes : 8, Score : 0.822984162013\n",
      "Fold : 5, max_leaf_nodes : 9, Score : 0.822984162013\n",
      "Fold : 5, max_leaf_nodes : 10, Score : 0.822967923212\n",
      "Fold : 5, max_leaf_nodes : 11, Score : 0.822947746283\n",
      "Fold : 6, max_leaf_nodes : 5, Score : 0.82025627651\n",
      "Fold : 6, max_leaf_nodes : 6, Score : 0.82025627651\n",
      "Fold : 6, max_leaf_nodes : 7, Score : 0.82025627651\n",
      "Fold : 6, max_leaf_nodes : 8, Score : 0.82025627651\n",
      "Fold : 6, max_leaf_nodes : 9, Score : 0.820201905068\n",
      "Fold : 6, max_leaf_nodes : 10, Score : 0.820201905068\n",
      "Fold : 6, max_leaf_nodes : 11, Score : 0.820201905068\n",
      "Fold : 7, max_leaf_nodes : 5, Score : 0.823662499575\n",
      "Fold : 7, max_leaf_nodes : 6, Score : 0.823662499575\n",
      "Fold : 7, max_leaf_nodes : 7, Score : 0.823662499575\n",
      "Fold : 7, max_leaf_nodes : 8, Score : 0.823662499575\n",
      "Fold : 7, max_leaf_nodes : 9, Score : 0.823662499575\n",
      "Fold : 7, max_leaf_nodes : 10, Score : 0.823626251948\n",
      "Fold : 7, max_leaf_nodes : 11, Score : 0.823585898089\n",
      "Fold : 8, max_leaf_nodes : 5, Score : 0.822850936753\n",
      "Fold : 8, max_leaf_nodes : 6, Score : 0.822850936753\n",
      "Fold : 8, max_leaf_nodes : 7, Score : 0.822850936753\n",
      "Fold : 8, max_leaf_nodes : 8, Score : 0.822850936753\n",
      "Fold : 8, max_leaf_nodes : 9, Score : 0.822869060567\n",
      "Fold : 8, max_leaf_nodes : 10, Score : 0.822887184381\n",
      "Fold : 8, max_leaf_nodes : 11, Score : 0.822887184381\n",
      "Fold : 9, max_leaf_nodes : 5, Score : 0.821015683206\n",
      "Fold : 9, max_leaf_nodes : 6, Score : 0.821015683206\n",
      "Fold : 9, max_leaf_nodes : 7, Score : 0.821015683206\n",
      "Fold : 9, max_leaf_nodes : 8, Score : 0.821015683206\n",
      "Fold : 9, max_leaf_nodes : 9, Score : 0.82103380702\n",
      "Fold : 9, max_leaf_nodes : 10, Score : 0.82103380702\n",
      "Fold : 9, max_leaf_nodes : 11, Score : 0.821070054648\n",
      "Fold : 10, max_leaf_nodes : 5, Score : 0.820226763432\n",
      "Fold : 10, max_leaf_nodes : 6, Score : 0.820226763432\n",
      "Fold : 10, max_leaf_nodes : 7, Score : 0.820226763432\n",
      "Fold : 10, max_leaf_nodes : 8, Score : 0.820226763432\n",
      "Fold : 10, max_leaf_nodes : 9, Score : 0.820281134873\n",
      "Fold : 10, max_leaf_nodes : 10, Score : 0.820389877757\n",
      "Fold : 10, max_leaf_nodes : 11, Score : 0.820389877757\n"
     ]
    }
   ],
   "source": [
    "results = pd.DataFrame()\n",
    "foldnum=0\n",
    "for train, test in cross_validation.KFold(len(data_nodfb), shuffle=True, n_folds=10,\n",
    "                                           random_state=20160217):\n",
    "    foldnum+=1\n",
    "    [tr_data, te_data, tr_labels, te_labels] = folds_to_split(data_nodfb, labels, train, test)\n",
    "\n",
    "    for max_leaf_nodes in range(5, 12):\n",
    "        dtree = tree.DecisionTreeClassifier(criterion='gini', max_leaf_nodes=max_leaf_nodes )\n",
    "        dtree = dtree.fit(tr_data, tr_labels.values.ravel())\n",
    "        dtree_predict = dtree.predict_proba(te_data) \n",
    "        score = ndcg_score(te_labels.as_matrix(), dtree_predict, k=5)\n",
    "        print 'Fold : {}, max_leaf_nodes : {}, Score : {}'.format( foldnum, max_leaf_nodes, score )\n",
    "        results.loc[foldnum, 'max_leaf_nodes=%d'%max_leaf_nodes ] = score"
   ]
  },
  {
   "cell_type": "code",
   "execution_count": 9,
   "metadata": {
    "collapsed": false
   },
   "outputs": [
    {
     "data": {
      "text/plain": [
       "max_leaf_nodes=5     0.822126\n",
       "max_leaf_nodes=6     0.822126\n",
       "max_leaf_nodes=7     0.822126\n",
       "max_leaf_nodes=8     0.822126\n",
       "max_leaf_nodes=9     0.822132\n",
       "max_leaf_nodes=10    0.822139\n",
       "max_leaf_nodes=11    0.822128\n",
       "dtype: float64"
      ]
     },
     "execution_count": 9,
     "metadata": {},
     "output_type": "execute_result"
    }
   ],
   "source": [
    "results.mean()"
   ]
  },
  {
   "cell_type": "markdown",
   "metadata": {},
   "source": [
    "The nDCG score is good when the max_leaf_nodes is set and it is the best when max_leaf_nodes=10."
   ]
  },
  {
   "cell_type": "markdown",
   "metadata": {},
   "source": [
    "### AdaBoost Classifier for Decision Tree"
   ]
  },
  {
   "cell_type": "code",
   "execution_count": 11,
   "metadata": {
    "collapsed": false
   },
   "outputs": [
    {
     "name": "stdout",
     "output_type": "stream",
     "text": [
      "Fold : 1,  Score : 0.818476724739\n",
      "Fold : 2,  Score : 0.820920214732\n",
      "Fold : 3,  Score : 0.81920483286\n",
      "Fold : 4,  Score : 0.819283118322\n",
      "Fold : 5,  Score : 0.821489339445\n",
      "Fold : 6,  Score : 0.818936698299\n",
      "Fold : 7,  Score : 0.82089684951\n",
      "Fold : 8,  Score : 0.820542404937\n",
      "Fold : 9,  Score : 0.818866494592\n",
      "Fold : 10,  Score : 0.817795161637\n"
     ]
    }
   ],
   "source": [
    "from sklearn.ensemble import AdaBoostClassifier\n",
    "\n",
    "results = pd.DataFrame()\n",
    "foldnum=0\n",
    "for train, test in cross_validation.KFold(len(data_nodfb), shuffle=True, n_folds=10,\n",
    "                                           random_state=20160217):\n",
    "    foldnum+=1\n",
    "    [tr_data, te_data, tr_labels, te_labels] = folds_to_split(data_nodfb, labels, train, test)\n",
    "    \n",
    "    dtree =  AdaBoostClassifier(tree.DecisionTreeClassifier(criterion='gini', max_leaf_nodes=10), \n",
    "                                random_state=20160202)\n",
    "    dtree = dtree.fit(tr_data, tr_labels.values.ravel())\n",
    "    dtree_predict = dtree.predict_proba(te_data) \n",
    "    score = ndcg_score(te_labels.as_matrix(), dtree_predict, k=5)\n",
    "    print 'Fold : {},  Score : {}'.format( foldnum, score )\n",
    "    results.loc[foldnum, 'adaboost'] = score"
   ]
  },
  {
   "cell_type": "code",
   "execution_count": 12,
   "metadata": {
    "collapsed": false
   },
   "outputs": [
    {
     "data": {
      "text/plain": [
       "adaboost    0.819641\n",
       "dtype: float64"
      ]
     },
     "execution_count": 12,
     "metadata": {},
     "output_type": "execute_result"
    }
   ],
   "source": [
    "results.mean()"
   ]
  },
  {
   "cell_type": "markdown",
   "metadata": {
    "collapsed": true
   },
   "source": [
    "AdaBoost with Decision tree didn't make the nDCG score better. So the best nDCG score( 0.822139 ) obtained with decision tree is when the max_leaf_nodes is set to 10."
   ]
  }
 ],
 "metadata": {
  "kernelspec": {
   "display_name": "Python 2",
   "language": "python",
   "name": "python2"
  },
  "language_info": {
   "codemirror_mode": {
    "name": "ipython",
    "version": 2
   },
   "file_extension": ".py",
   "mimetype": "text/x-python",
   "name": "python",
   "nbconvert_exporter": "python",
   "pygments_lexer": "ipython2",
   "version": "2.7.11"
  }
 },
 "nbformat": 4,
 "nbformat_minor": 0
}
